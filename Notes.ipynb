{
 "cells": [
  {
   "cell_type": "markdown",
   "id": "07aaf276",
   "metadata": {},
   "source": [
    "# Preamble\n",
    "\n",
    "This notebook contains some general notes and observations about the project and progress"
   ]
  },
  {
   "cell_type": "markdown",
   "id": "fe2406d1",
   "metadata": {},
   "source": [
    "## Notes from the Kaggle Comments\n",
    "\n",
    "#### Is the WAP meant to be doing bid_price * ask_size (and vice versa)? It seems like it should be doing bid\\*bid and ask\\*ask?\n",
    "\n",
    "A. The correct way to compute WAP is bid\\*ask and ask\\*bid. If there are a lot more buyers than sellers (bid_size >> ask_size) one would expect the price to go up, the more buyers there are the more the WAP will approach the ask_price.\n",
    "\n",
    "#### What does the index of bid/ask_price field mean?\n",
    "\n",
    "A: The index is an indication of competitiveness of the order. For example, if you want to buy some stock, you need to find a seller. If I would like to offer you 10 lots at 8 EUR, and others want to offer you 12 lots at 9 EUR, apparently my offer is more competitive as it is cheaper. In this case, ask_price1 = 8, ask_size1 = 10, ask_price2 = 9, ask_size2 = 12."
   ]
  },
  {
   "cell_type": "markdown",
   "id": "b2ce394c",
   "metadata": {},
   "source": [
    "## Misc.\n",
    "\n",
    "#### Someones opinion:\n",
    "\n",
    "In this post, I have reported an error in your evaluation method.\n",
    "\n",
    "[https://www.kaggle.com/c/optiver-realized-volatility-prediction/discussion/265291]\n",
    "\n",
    "I am very curious to know your opinion.\n",
    "\n",
    "You, like all other companies that have opened competitions in finance, do not take into account the following two characteristics of the financial markets:\n",
    "\n",
    "1) have two degrees of freedom.\n",
    "\n",
    "2) Are very close to efficiency (random behavior).\n",
    "\n",
    "It follows that it is very easy to get good results randomly and being able to predict the market implies a detectable advantage only for a very large number of trades\n",
    "\n",
    "For this reason, in finance, we must calculate the probability of obtaining the same result randomly. I remind you of the fundamental problem of statistics \"A statistical data does not represent useful information, but becomes useful information only when it is shown that it was not obtained randomly\".\n",
    "\n",
    "You are making this mistake, you are considering each result as useful information.\n",
    "\n",
    "At the end of these competitions, the final ranking always seems random, guess the reason.\n",
    "\n",
    "#### Their solution/ imporvement:\n",
    "\n",
    "A statistical data can only be obtained under two conditions:\n",
    "\n",
    "Through a random process.\n",
    "\n",
    "Through a deterministic process, understanding the phenomenon and using the acquired knowledge.\n",
    "\n",
    "These two conditions have important consequences on future results. In the first case, the result obtained does not represent an estimate of future results. In the second case, the result obtained can represent an estimate of future results.\n",
    "\n",
    "Our interest is solely linked to future results, for example, if we invest in a fund we are interested in the fund continuing to perform well.\n",
    "\n",
    "Consequently, the key priority in developing such a competition is to ensure that random results do not overlap with deterministic results. Given the characteristics of the financial markets, this is a very frequent problem.\n",
    "\n",
    "In order to solve this problem, we need to make the evaluation system dynamic, a system that changes according to the number of participants. Increasing the number of participants increases the likelihood of getting good results randomly, so you have to increase the number of predictions.\n",
    "\n",
    "In conclusion, there is a difference between results and knowledge. A good result does not imply knowledge of the phenomenon. Therefore, proving that the result was not obtained randomly is crucial in its evaluation."
   ]
  },
  {
   "cell_type": "code",
   "execution_count": null,
   "id": "8b11d467",
   "metadata": {},
   "outputs": [],
   "source": []
  }
 ],
 "metadata": {
  "kernelspec": {
   "display_name": "Python 3",
   "language": "python",
   "name": "python3"
  },
  "language_info": {
   "codemirror_mode": {
    "name": "ipython",
    "version": 3
   },
   "file_extension": ".py",
   "mimetype": "text/x-python",
   "name": "python",
   "nbconvert_exporter": "python",
   "pygments_lexer": "ipython3",
   "version": "3.8.8"
  }
 },
 "nbformat": 4,
 "nbformat_minor": 5
}
